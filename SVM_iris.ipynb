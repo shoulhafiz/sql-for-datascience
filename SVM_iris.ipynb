{
  "nbformat": 4,
  "nbformat_minor": 0,
  "metadata": {
    "colab": {
      "name": "SVM-iris.ipynb",
      "provenance": [],
      "collapsed_sections": [],
      "include_colab_link": true
    },
    "kernelspec": {
      "name": "python3",
      "display_name": "Python 3"
    }
  },
  "cells": [
    {
      "cell_type": "markdown",
      "metadata": {
        "id": "view-in-github",
        "colab_type": "text"
      },
      "source": [
        "<a href=\"https://colab.research.google.com/github/shoulhafiz/sql-for-datascience/blob/master/SVM_iris.ipynb\" target=\"_parent\"><img src=\"https://colab.research.google.com/assets/colab-badge.svg\" alt=\"Open In Colab\"/></a>"
      ]
    },
    {
      "cell_type": "code",
      "metadata": {
        "id": "wNvrjZQ6UJ08",
        "colab_type": "code",
        "outputId": "de632369-5c8b-46c5-a25c-19eb2483bb45",
        "colab": {
          "base_uri": "https://localhost:8080/",
          "height": 202
        }
      },
      "source": [
        "!wget https://malaya-dataset.s3-ap-southeast-1.amazonaws.com/tutorial/iris.csv"
      ],
      "execution_count": 0,
      "outputs": [
        {
          "output_type": "stream",
          "text": [
            "--2019-11-06 01:25:37--  https://malaya-dataset.s3-ap-southeast-1.amazonaws.com/tutorial/iris.csv\n",
            "Resolving malaya-dataset.s3-ap-southeast-1.amazonaws.com (malaya-dataset.s3-ap-southeast-1.amazonaws.com)... 52.219.32.143\n",
            "Connecting to malaya-dataset.s3-ap-southeast-1.amazonaws.com (malaya-dataset.s3-ap-southeast-1.amazonaws.com)|52.219.32.143|:443... connected.\n",
            "HTTP request sent, awaiting response... 200 OK\n",
            "Length: 3716 (3.6K) [text/csv]\n",
            "Saving to: ‘iris.csv’\n",
            "\n",
            "iris.csv            100%[===================>]   3.63K  --.-KB/s    in 0s      \n",
            "\n",
            "2019-11-06 01:25:38 (262 MB/s) - ‘iris.csv’ saved [3716/3716]\n",
            "\n"
          ],
          "name": "stdout"
        }
      ]
    },
    {
      "cell_type": "code",
      "metadata": {
        "id": "a8Wt0wObUYcy",
        "colab_type": "code",
        "colab": {}
      },
      "source": [
        "import numpy as np\n",
        "import pandas as pd\n",
        "import matplotlib.pyplot as plt\n",
        "import seaborn as sns"
      ],
      "execution_count": 0,
      "outputs": []
    },
    {
      "cell_type": "code",
      "metadata": {
        "id": "ldMfijPgUbX_",
        "colab_type": "code",
        "colab": {}
      },
      "source": [
        "df = pd.read_csv('iris.csv')"
      ],
      "execution_count": 0,
      "outputs": []
    },
    {
      "cell_type": "code",
      "metadata": {
        "id": "nPIMSXzeUlZm",
        "colab_type": "code",
        "outputId": "d60d2676-b42a-44aa-edb5-36d436717369",
        "colab": {
          "base_uri": "https://localhost:8080/",
          "height": 195
        }
      },
      "source": [
        "df.head()"
      ],
      "execution_count": 0,
      "outputs": [
        {
          "output_type": "execute_result",
          "data": {
            "text/html": [
              "<div>\n",
              "<style scoped>\n",
              "    .dataframe tbody tr th:only-of-type {\n",
              "        vertical-align: middle;\n",
              "    }\n",
              "\n",
              "    .dataframe tbody tr th {\n",
              "        vertical-align: top;\n",
              "    }\n",
              "\n",
              "    .dataframe thead th {\n",
              "        text-align: right;\n",
              "    }\n",
              "</style>\n",
              "<table border=\"1\" class=\"dataframe\">\n",
              "  <thead>\n",
              "    <tr style=\"text-align: right;\">\n",
              "      <th></th>\n",
              "      <th>sepal_length</th>\n",
              "      <th>sepal_width</th>\n",
              "      <th>petal_length</th>\n",
              "      <th>petal_width</th>\n",
              "      <th>species</th>\n",
              "    </tr>\n",
              "  </thead>\n",
              "  <tbody>\n",
              "    <tr>\n",
              "      <th>0</th>\n",
              "      <td>5.1</td>\n",
              "      <td>3.5</td>\n",
              "      <td>1.4</td>\n",
              "      <td>0.2</td>\n",
              "      <td>setosa</td>\n",
              "    </tr>\n",
              "    <tr>\n",
              "      <th>1</th>\n",
              "      <td>4.9</td>\n",
              "      <td>3.0</td>\n",
              "      <td>1.4</td>\n",
              "      <td>0.2</td>\n",
              "      <td>setosa</td>\n",
              "    </tr>\n",
              "    <tr>\n",
              "      <th>2</th>\n",
              "      <td>4.7</td>\n",
              "      <td>3.2</td>\n",
              "      <td>1.3</td>\n",
              "      <td>0.2</td>\n",
              "      <td>setosa</td>\n",
              "    </tr>\n",
              "    <tr>\n",
              "      <th>3</th>\n",
              "      <td>4.6</td>\n",
              "      <td>3.1</td>\n",
              "      <td>1.5</td>\n",
              "      <td>0.2</td>\n",
              "      <td>setosa</td>\n",
              "    </tr>\n",
              "    <tr>\n",
              "      <th>4</th>\n",
              "      <td>5.0</td>\n",
              "      <td>3.6</td>\n",
              "      <td>1.4</td>\n",
              "      <td>0.2</td>\n",
              "      <td>setosa</td>\n",
              "    </tr>\n",
              "  </tbody>\n",
              "</table>\n",
              "</div>"
            ],
            "text/plain": [
              "   sepal_length  sepal_width  petal_length  petal_width species\n",
              "0           5.1          3.5           1.4          0.2  setosa\n",
              "1           4.9          3.0           1.4          0.2  setosa\n",
              "2           4.7          3.2           1.3          0.2  setosa\n",
              "3           4.6          3.1           1.5          0.2  setosa\n",
              "4           5.0          3.6           1.4          0.2  setosa"
            ]
          },
          "metadata": {
            "tags": []
          },
          "execution_count": 4
        }
      ]
    },
    {
      "cell_type": "code",
      "metadata": {
        "id": "BY_NQUbQUriI",
        "colab_type": "code",
        "outputId": "48059d46-268c-4de7-9e9d-17b2adf616d1",
        "colab": {
          "base_uri": "https://localhost:8080/",
          "height": 84
        }
      },
      "source": [
        "df['species'].value_counts()"
      ],
      "execution_count": 0,
      "outputs": [
        {
          "output_type": "execute_result",
          "data": {
            "text/plain": [
              "virginica     50\n",
              "versicolor    50\n",
              "setosa        50\n",
              "Name: species, dtype: int64"
            ]
          },
          "metadata": {
            "tags": []
          },
          "execution_count": 5
        }
      ]
    },
    {
      "cell_type": "code",
      "metadata": {
        "id": "uExeKegIVJW7",
        "colab_type": "code",
        "outputId": "ec1fd413-5b2a-4759-937b-16d970630171",
        "colab": {
          "base_uri": "https://localhost:8080/",
          "height": 34
        }
      },
      "source": [
        "df.shape"
      ],
      "execution_count": 0,
      "outputs": [
        {
          "output_type": "execute_result",
          "data": {
            "text/plain": [
              "(150, 5)"
            ]
          },
          "metadata": {
            "tags": []
          },
          "execution_count": 8
        }
      ]
    },
    {
      "cell_type": "markdown",
      "metadata": {
        "id": "NOEcTUHPV6HM",
        "colab_type": "text"
      },
      "source": [
        "## Seaborn boxplot visualization\n",
        "\n",
        "https://seaborn.pydata.org/examples/grouped_boxplot.html\n",
        "# can check more style at doc, https://seaborn.pydata.org/tutorial/aesthetics.html\n",
        "sns.set_style(\"white\")"
      ]
    },
    {
      "cell_type": "code",
      "metadata": {
        "id": "8EKynykAWM-d",
        "colab_type": "code",
        "outputId": "45a2c382-f71c-4498-f7b0-25817db082f4",
        "colab": {
          "base_uri": "https://localhost:8080/",
          "height": 289
        }
      },
      "source": [
        "sns.boxplot(x='species', y='petal_width', data=df)\n",
        "sns.despine(offset=10, trim=True)"
      ],
      "execution_count": 0,
      "outputs": [
        {
          "output_type": "display_data",
          "data": {
            "image/png": "[encoded data removed]",
            "text/plain": [
              "<Figure size 432x288 with 1 Axes>"
            ]
          },
          "metadata": {
            "tags": []
          }
        }
      ]
    },
    {
      "cell_type": "code",
      "metadata": {
        "id": "auHa0GcIZNPF",
        "colab_type": "code",
        "outputId": "189ff010-cf4e-419b-b1b6-0830cd2e71c8",
        "colab": {
          "base_uri": "https://localhost:8080/",
          "height": 282
        }
      },
      "source": [
        "df[df['species'] == 'virginica']['petal_width'].hist(bins = 50,\n",
        "                                                     label = 'virginica')"
      ],
      "execution_count": 0,
      "outputs": [
        {
          "output_type": "execute_result",
          "data": {
            "text/plain": [
              "<matplotlib.axes._subplots.AxesSubplot at 0x7fbfbb23d978>"
            ]
          },
          "metadata": {
            "tags": []
          },
          "execution_count": 12
        },
        {
          "output_type": "display_data",
          "data": {
            "image/png": "[encoded data removed]",
            "text/plain": [
              "<Figure size 432x288 with 1 Axes>"
            ]
          },
          "metadata": {
            "tags": []
          }
        }
      ]
    },
    {
      "cell_type": "code",
      "metadata": {
        "id": "w-rXVG5iZGxH",
        "colab_type": "code",
        "outputId": "6f2ff53f-132b-49d8-b734-1afa61d4f9f5",
        "colab": {
          "base_uri": "https://localhost:8080/",
          "height": 282
        }
      },
      "source": [
        "df[df['species'] == 'versicolor']['petal_width'].hist(bins = 50,\n",
        "                                                     label = 'versicolor')"
      ],
      "execution_count": 0,
      "outputs": [
        {
          "output_type": "execute_result",
          "data": {
            "text/plain": [
              "<matplotlib.axes._subplots.AxesSubplot at 0x7fbfbb1405f8>"
            ]
          },
          "metadata": {
            "tags": []
          },
          "execution_count": 13
        },
        {
          "output_type": "display_data",
          "data": {
            "image/png": "[encoded data removed]",
            "text/plain": [
              "<Figure size 432x288 with 1 Axes>"
            ]
          },
          "metadata": {
            "tags": []
          }
        }
      ]
    },
    {
      "cell_type": "code",
      "metadata": {
        "id": "TX2_2_UOZ-SV",
        "colab_type": "code",
        "outputId": "4dc08dea-015e-4575-dd3e-95d8f2d420d6",
        "colab": {
          "base_uri": "https://localhost:8080/",
          "height": 282
        }
      },
      "source": [
        "df[df['species'] == 'setosa']['petal_width'].hist(bins = 50,\n",
        "                                                     label = 'setosa')"
      ],
      "execution_count": 0,
      "outputs": [
        {
          "output_type": "execute_result",
          "data": {
            "text/plain": [
              "<matplotlib.axes._subplots.AxesSubplot at 0x7fbfbb034898>"
            ]
          },
          "metadata": {
            "tags": []
          },
          "execution_count": 14
        },
        {
          "output_type": "display_data",
          "data": {
            "image/png": "[encoded data removed]",
            "text/plain": [
              "<Figure size 432x288 with 1 Axes>"
            ]
          },
          "metadata": {
            "tags": []
          }
        }
      ]
    },
    {
      "cell_type": "code",
      "metadata": {
        "id": "fBUYCLrUaIAl",
        "colab_type": "code",
        "outputId": "08325747-b552-4341-dcc2-485a6967d2b2",
        "colab": {
          "base_uri": "https://localhost:8080/",
          "height": 265
        }
      },
      "source": [
        "df[df['species'] == 'virginica']['petal_width'].hist(bins = 50,\n",
        "                                                     label = 'virginica')\n",
        "df[df['species'] == 'versicolor']['petal_width'].hist(bins = 50,\n",
        "                                                     label = 'versicolor')\n",
        "df[df['species'] == 'setosa']['petal_width'].hist(bins = 50,\n",
        "                                                     label = 'setosa')\n",
        "plt.legend()\n",
        "plt.show()"
      ],
      "execution_count": 0,
      "outputs": [
        {
          "output_type": "display_data",
          "data": {
            "image/png": "[encoded data removed]",
            "text/plain": [
              "<Figure size 432x288 with 1 Axes>"
            ]
          },
          "metadata": {
            "tags": []
          }
        }
      ]
    },
    {
      "cell_type": "code",
      "metadata": {
        "id": "cgBec-pMaRix",
        "colab_type": "code",
        "outputId": "127d14ad-fb61-4021-da89-48e38a136a2b",
        "colab": {
          "base_uri": "https://localhost:8080/",
          "height": 623
        }
      },
      "source": [
        "plt.figure(figsize=(10, 10))\n",
        "iris = pd.melt(df, \"species\", var_name=\"measurement\")\n",
        "\n",
        "sns.swarmplot(x=\"measurement\", y=\"value\", hue=\"species\",\n",
        "              data=iris)"
      ],
      "execution_count": 0,
      "outputs": [
        {
          "output_type": "execute_result",
          "data": {
            "text/plain": [
              "<matplotlib.axes._subplots.AxesSubplot at 0x7fbfb8511ba8>"
            ]
          },
          "metadata": {
            "tags": []
          },
          "execution_count": 18
        },
        {
          "output_type": "display_data",
          "data": {
            "image/png": "[encoded data removed]",
            "text/plain": [
              "<Figure size 720x720 with 1 Axes>"
            ]
          },
          "metadata": {
            "tags": []
          }
        }
      ]
    },
    {
      "cell_type": "code",
      "metadata": {
        "id": "2D7AGEzUerh_",
        "colab_type": "code",
        "outputId": "6c3a0de9-0046-46b9-f454-9a39481844dd",
        "colab": {
          "base_uri": "https://localhost:8080/",
          "height": 166
        }
      },
      "source": [
        "correlation = df.corr()\n",
        "correlation"
      ],
      "execution_count": 0,
      "outputs": [
        {
          "output_type": "execute_result",
          "data": {
            "text/html": [
              "<div>\n",
              "<style scoped>\n",
              "    .dataframe tbody tr th:only-of-type {\n",
              "        vertical-align: middle;\n",
              "    }\n",
              "\n",
              "    .dataframe tbody tr th {\n",
              "        vertical-align: top;\n",
              "    }\n",
              "\n",
              "    .dataframe thead th {\n",
              "        text-align: right;\n",
              "    }\n",
              "</style>\n",
              "<table border=\"1\" class=\"dataframe\">\n",
              "  <thead>\n",
              "    <tr style=\"text-align: right;\">\n",
              "      <th></th>\n",
              "      <th>sepal_length</th>\n",
              "      <th>sepal_width</th>\n",
              "      <th>petal_length</th>\n",
              "      <th>petal_width</th>\n",
              "    </tr>\n",
              "  </thead>\n",
              "  <tbody>\n",
              "    <tr>\n",
              "      <th>sepal_length</th>\n",
              "      <td>1.000000</td>\n",
              "      <td>-0.109369</td>\n",
              "      <td>0.871754</td>\n",
              "      <td>0.817954</td>\n",
              "    </tr>\n",
              "    <tr>\n",
              "      <th>sepal_width</th>\n",
              "      <td>-0.109369</td>\n",
              "      <td>1.000000</td>\n",
              "      <td>-0.420516</td>\n",
              "      <td>-0.356544</td>\n",
              "    </tr>\n",
              "    <tr>\n",
              "      <th>petal_length</th>\n",
              "      <td>0.871754</td>\n",
              "      <td>-0.420516</td>\n",
              "      <td>1.000000</td>\n",
              "      <td>0.962757</td>\n",
              "    </tr>\n",
              "    <tr>\n",
              "      <th>petal_width</th>\n",
              "      <td>0.817954</td>\n",
              "      <td>-0.356544</td>\n",
              "      <td>0.962757</td>\n",
              "      <td>1.000000</td>\n",
              "    </tr>\n",
              "  </tbody>\n",
              "</table>\n",
              "</div>"
            ],
            "text/plain": [
              "              sepal_length  sepal_width  petal_length  petal_width\n",
              "sepal_length      1.000000    -0.109369      0.871754     0.817954\n",
              "sepal_width      -0.109369     1.000000     -0.420516    -0.356544\n",
              "petal_length      0.871754    -0.420516      1.000000     0.962757\n",
              "petal_width       0.817954    -0.356544      0.962757     1.000000"
            ]
          },
          "metadata": {
            "tags": []
          },
          "execution_count": 20
        }
      ]
    },
    {
      "cell_type": "code",
      "metadata": {
        "id": "_8pqqp_Hfw6v",
        "colab_type": "code",
        "outputId": "f1e39957-6f68-4306-adfa-fffad4c32ea2",
        "colab": {
          "base_uri": "https://localhost:8080/",
          "height": 500
        }
      },
      "source": [
        "plt.subplots(figsize=(9, 6))\n",
        "sns.heatmap(correlation, annot=True, fmt=\".2f\")\n",
        "plt.show()\n"
      ],
      "execution_count": 0,
      "outputs": [
        {
          "output_type": "display_data",
          "data": {
            "image/png": "[encoded data removed]",
            "text/plain": [
              "<Figure size 648x432 with 2 Axes>"
            ]
          },
          "metadata": {
            "tags": []
          }
        },
        {
          "output_type": "execute_result",
          "data": {
            "text/plain": [
              "sepal_length    0.699769\n",
              "sepal_width     0.471607\n",
              "petal_length    0.813757\n",
              "petal_width     0.784314\n",
              "dtype: float64"
            ]
          },
          "metadata": {
            "tags": []
          },
          "execution_count": 21
        }
      ]
    },
    {
      "cell_type": "code",
      "metadata": {
        "id": "otp3oySBgA7r",
        "colab_type": "code",
        "outputId": "5f72fb20-33df-4006-8455-4eef9d3b4636",
        "colab": {
          "base_uri": "https://localhost:8080/",
          "height": 101
        }
      },
      "source": [
        "correlation.abs().mean(axis=1)"
      ],
      "execution_count": 0,
      "outputs": [
        {
          "output_type": "execute_result",
          "data": {
            "text/plain": [
              "sepal_length    0.699769\n",
              "sepal_width     0.471607\n",
              "petal_length    0.813757\n",
              "petal_width     0.784314\n",
              "dtype: float64"
            ]
          },
          "metadata": {
            "tags": []
          },
          "execution_count": 24
        }
      ]
    },
    {
      "cell_type": "markdown",
      "metadata": {
        "id": "g7zLRp38gW7H",
        "colab_type": "text"
      },
      "source": [
        "**MACHINE LEARNING**\n",
        "\n",
        "https://scikit-learn.org/stable/\n",
        "https://scikit-learn.org/stable/tutorial/machine_learning_map/index.html"
      ]
    },
    {
      "cell_type": "code",
      "metadata": {
        "id": "EaNr66D0gb5_",
        "colab_type": "code",
        "colab": {}
      },
      "source": [
        "X = df.iloc[:, :-1].values\n",
        "Y = df.iloc[:, -1].values"
      ],
      "execution_count": 0,
      "outputs": []
    },
    {
      "cell_type": "code",
      "metadata": {
        "id": "IXYezYGIiNEW",
        "colab_type": "code",
        "outputId": "c16e9eaa-f52f-4d09-a1d1-0aafa59006ca",
        "colab": {
          "base_uri": "https://localhost:8080/",
          "height": 34
        }
      },
      "source": [
        "from sklearn.model_selection import train_test_split\n",
        "\n",
        "train_X, test_X, train_Y, test_Y = train_test_split(X,Y, test_size = 0.2)\n",
        "\n",
        "train_X.shape, test_X.shape"
      ],
      "execution_count": 0,
      "outputs": [
        {
          "output_type": "execute_result",
          "data": {
            "text/plain": [
              "((120, 4), (30, 4))"
            ]
          },
          "metadata": {
            "tags": []
          },
          "execution_count": 31
        }
      ]
    },
    {
      "cell_type": "code",
      "metadata": {
        "id": "5sQ2rojBjN7l",
        "colab_type": "code",
        "colab": {
          "base_uri": "https://localhost:8080/",
          "height": 104
        },
        "outputId": "98669f8e-0782-4978-f9b7-7237a9c3f652"
      },
      "source": [
        "#%%time\n",
        "\n",
        "#from sklearn.svm import SVC\n",
        "\n",
        "# https://scikit-learn.org/stable/modules/generated/sklearn.svm.SVC.html#sklearn.svm.SVC\n",
        "#svm = SVC().fit(train_X, train_Y)"
      ],
      "execution_count": 32,
      "outputs": [
        {
          "output_type": "stream",
          "text": [
            "CPU times: user 13.2 ms, sys: 6.48 ms, total: 19.7 ms\n",
            "Wall time: 92.2 ms\n"
          ],
          "name": "stdout"
        },
        {
          "output_type": "stream",
          "text": [
            "/usr/local/lib/python3.6/dist-packages/sklearn/svm/base.py:193: FutureWarning: The default value of gamma will change from 'auto' to 'scale' in version 0.22 to account better for unscaled features. Set gamma explicitly to 'auto' or 'scale' to avoid this warning.\n",
            "  \"avoid this warning.\", FutureWarning)\n"
          ],
          "name": "stderr"
        }
      ]
    },
    {
      "cell_type": "code",
      "metadata": {
        "id": "be6lDejXmAVN",
        "colab_type": "code",
        "colab": {
          "base_uri": "https://localhost:8080/",
          "height": 104
        },
        "outputId": "d6356dd0-c246-4f48-d745-56cdb539ce2f"
      },
      "source": [
        "%%time\n",
        "from sklearn.svm import SVC\n",
        "\n",
        "model = SVC()\n",
        "model.fit(train_X, train_Y)"
      ],
      "execution_count": 33,
      "outputs": [
        {
          "output_type": "stream",
          "text": [
            "CPU times: user 2.41 ms, sys: 782 µs, total: 3.2 ms\n",
            "Wall time: 3.68 ms\n"
          ],
          "name": "stdout"
        },
        {
          "output_type": "stream",
          "text": [
            "/usr/local/lib/python3.6/dist-packages/sklearn/svm/base.py:193: FutureWarning: The default value of gamma will change from 'auto' to 'scale' in version 0.22 to account better for unscaled features. Set gamma explicitly to 'auto' or 'scale' to avoid this warning.\n",
            "  \"avoid this warning.\", FutureWarning)\n"
          ],
          "name": "stderr"
        }
      ]
    },
    {
      "cell_type": "code",
      "metadata": {
        "id": "cep2LhPmmlRv",
        "colab_type": "code",
        "colab": {
          "base_uri": "https://localhost:8080/",
          "height": 118
        },
        "outputId": "868bb780-b89d-44cd-909e-92a78e17cade"
      },
      "source": [
        "predict_Y = model.predict(test_X)\n",
        "predict_Y"
      ],
      "execution_count": 34,
      "outputs": [
        {
          "output_type": "execute_result",
          "data": {
            "text/plain": [
              "array(['virginica', 'setosa', 'setosa', 'virginica', 'versicolor',\n",
              "       'virginica', 'virginica', 'setosa', 'versicolor', 'versicolor',\n",
              "       'versicolor', 'virginica', 'setosa', 'virginica', 'virginica',\n",
              "       'virginica', 'setosa', 'virginica', 'setosa', 'setosa', 'setosa',\n",
              "       'setosa', 'versicolor', 'virginica', 'setosa', 'setosa', 'setosa',\n",
              "       'virginica', 'setosa', 'setosa'], dtype=object)"
            ]
          },
          "metadata": {
            "tags": []
          },
          "execution_count": 34
        }
      ]
    },
    {
      "cell_type": "code",
      "metadata": {
        "id": "1eWSU6Iom0LX",
        "colab_type": "code",
        "colab": {
          "base_uri": "https://localhost:8080/",
          "height": 218
        },
        "outputId": "faa01bc9-e200-476c-9261-e251dc66642d"
      },
      "source": [
        "test_Y, predict_Y"
      ],
      "execution_count": 37,
      "outputs": [
        {
          "output_type": "execute_result",
          "data": {
            "text/plain": [
              "(array(['virginica', 'setosa', 'setosa', 'virginica', 'versicolor',\n",
              "        'virginica', 'virginica', 'setosa', 'versicolor', 'versicolor',\n",
              "        'versicolor', 'virginica', 'setosa', 'virginica', 'virginica',\n",
              "        'virginica', 'setosa', 'virginica', 'setosa', 'setosa', 'setosa',\n",
              "        'setosa', 'versicolor', 'virginica', 'setosa', 'setosa', 'setosa',\n",
              "        'virginica', 'setosa', 'setosa'], dtype=object),\n",
              " array(['virginica', 'setosa', 'setosa', 'virginica', 'versicolor',\n",
              "        'virginica', 'virginica', 'setosa', 'versicolor', 'versicolor',\n",
              "        'versicolor', 'virginica', 'setosa', 'virginica', 'virginica',\n",
              "        'virginica', 'setosa', 'virginica', 'setosa', 'setosa', 'setosa',\n",
              "        'setosa', 'versicolor', 'virginica', 'setosa', 'setosa', 'setosa',\n",
              "        'virginica', 'setosa', 'setosa'], dtype=object))"
            ]
          },
          "metadata": {
            "tags": []
          },
          "execution_count": 37
        }
      ]
    },
    {
      "cell_type": "code",
      "metadata": {
        "id": "mJ8UKBXgnT55",
        "colab_type": "code",
        "colab": {
          "base_uri": "https://localhost:8080/",
          "height": 185
        },
        "outputId": "ca7403dd-570a-4f7c-fc7c-b84b916cad15"
      },
      "source": [
        "from sklearn import metrics\n",
        "\n",
        "print(\n",
        "    metrics.classification_report(\n",
        "        test_Y, predict_Y,\n",
        "        digits = 5\n",
        "    )\n",
        ")"
      ],
      "execution_count": 38,
      "outputs": [
        {
          "output_type": "stream",
          "text": [
            "              precision    recall  f1-score   support\n",
            "\n",
            "      setosa    1.00000   1.00000   1.00000        14\n",
            "  versicolor    1.00000   1.00000   1.00000         5\n",
            "   virginica    1.00000   1.00000   1.00000        11\n",
            "\n",
            "    accuracy                        1.00000        30\n",
            "   macro avg    1.00000   1.00000   1.00000        30\n",
            "weighted avg    1.00000   1.00000   1.00000        30\n",
            "\n"
          ],
          "name": "stdout"
        }
      ]
    },
    {
      "cell_type": "code",
      "metadata": {
        "id": "hB71Zzxxo1xG",
        "colab_type": "code",
        "colab": {
          "base_uri": "https://localhost:8080/",
          "height": 67
        },
        "outputId": "531ca440-3c87-48b5-b7f9-8787ad6592d7"
      },
      "source": [
        "metrics.confusion_matrix(test_Y, predict_Y)"
      ],
      "execution_count": 40,
      "outputs": [
        {
          "output_type": "execute_result",
          "data": {
            "text/plain": [
              "array([[14,  0,  0],\n",
              "       [ 0,  5,  0],\n",
              "       [ 0,  0, 11]])"
            ]
          },
          "metadata": {
            "tags": []
          },
          "execution_count": 40
        }
      ]
    },
    {
      "cell_type": "code",
      "metadata": {
        "id": "STfHpo-ZpVH-",
        "colab_type": "code",
        "colab": {
          "base_uri": "https://localhost:8080/",
          "height": 34
        },
        "outputId": "63bc5e79-80ba-4a34-8600-23c7e47230cd"
      },
      "source": [
        "metrics.accuracy_score(test_Y, predict_Y)"
      ],
      "execution_count": 41,
      "outputs": [
        {
          "output_type": "execute_result",
          "data": {
            "text/plain": [
              "1.0"
            ]
          },
          "metadata": {
            "tags": []
          },
          "execution_count": 41
        }
      ]
    },
    {
      "cell_type": "code",
      "metadata": {
        "id": "sJJcH5nNpfLJ",
        "colab_type": "code",
        "colab": {}
      },
      "source": [
        "#Save the model\n",
        "import pickle\n",
        "\n",
        "with open('svm_iris.pkl', 'wb') as fopen:\n",
        "  pickle.dump(model, fopen)\n"
      ],
      "execution_count": 0,
      "outputs": []
    },
    {
      "cell_type": "code",
      "metadata": {
        "id": "ELpYPLIJsbDD",
        "colab_type": "code",
        "colab": {
          "base_uri": "https://localhost:8080/",
          "height": 50
        },
        "outputId": "7d551420-538b-43e9-b8bd-3252431c083b"
      },
      "source": [
        "#Callback the model\n",
        "\n",
        "# assume this is new machine\n",
        "\n",
        "with open('svm_iris.pkl', 'rb') as fopen:\n",
        "  new_svm = pickle.load(fopen)\n",
        "\n",
        "new_svm.predict(df.iloc[:10, :-1])"
      ],
      "execution_count": 45,
      "outputs": [
        {
          "output_type": "execute_result",
          "data": {
            "text/plain": [
              "array(['setosa', 'setosa', 'setosa', 'setosa', 'setosa', 'setosa',\n",
              "       'setosa', 'setosa', 'setosa', 'setosa'], dtype=object)"
            ]
          },
          "metadata": {
            "tags": []
          },
          "execution_count": 45
        }
      ]
    }
  ]
}